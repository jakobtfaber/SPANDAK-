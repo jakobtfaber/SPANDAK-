{
 "cells": [
  {
   "cell_type": "code",
   "execution_count": null,
   "metadata": {},
   "outputs": [],
   "source": [
    "import numpy as np\n",
    "import matplotlib.pyplot as plt\n",
    "from matplotlib.colors import LogNorm\n",
    "import scipy.signal as ss\n",
    "from matplotlib import rc\n",
    "from astropy.modeling.models import Gaussian2D\n",
    "from photutils.isophote import EllipseGeometry\n",
    "from photutils import EllipticalAperture\n",
    "from photutils.isophote import Ellipse\n",
    "from photutils.isophote import build_ellipse_model\n",
    "plt.rcParams.update({'font.size': 10})\n",
    "plt.rc('font', family='serif')"
   ]
  }
 ],
 "metadata": {
  "kernelspec": {
   "display_name": "Python 3",
   "language": "python",
   "name": "python3"
  },
  "language_info": {
   "codemirror_mode": {
    "name": "ipython",
    "version": 3
   },
   "file_extension": ".py",
   "mimetype": "text/x-python",
   "name": "python",
   "nbconvert_exporter": "python",
   "pygments_lexer": "ipython3",
   "version": "3.7.3"
  }
 },
 "nbformat": 4,
 "nbformat_minor": 4
}
