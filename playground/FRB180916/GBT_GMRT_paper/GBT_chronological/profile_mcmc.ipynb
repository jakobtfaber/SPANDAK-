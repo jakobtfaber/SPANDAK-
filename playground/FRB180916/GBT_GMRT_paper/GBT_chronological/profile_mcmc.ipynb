{
 "cells": [
  {
   "cell_type": "code",
   "execution_count": null,
   "metadata": {},
   "outputs": [],
   "source": [
    "import numpy as np\n",
    "import matplotlib.pyplot as plt\n",
    "import matplotlib\n",
    "from scipy.signal import convolve\n",
    "import sys,os\n",
    "from burst_utils import find_burst, boxcar_kernel"
   ]
  },
  {
   "cell_type": "code",
   "execution_count": null,
   "metadata": {},
   "outputs": [],
   "source": [
    "#Formatting\n",
    "font = {'family' : 'serif',\n",
    "        'weight' : 'normal',\n",
    "        'size'   : 14}\n",
    "\n",
    "matplotlib.rc('font', **font)"
   ]
  },
  {
   "cell_type": "code",
   "execution_count": null,
   "metadata": {},
   "outputs": [],
   "source": [
    "def get_mad(ts):\n",
    "    return np.median(np.abs(ts - np.median(ts)))\n",
    "\n",
    "def normalise(ts):\n",
    "    return ts/(1.4826*get_mad(ts))\n",
    "\n",
    "\n",
    "def Gaussian1D(x,sig,x0):\n",
    "    return np.exp(-(x-x0)*(x-x0)/(2*sig*sig + MIN_FLOAT))\n",
    "\n",
    "def linear(x,a,b):\n",
    "    return a*x + b\n",
    "\n",
    "def exp_decay(x,tau,x0):\n",
    "    res = np.zeros(len(x)) + MIN_FLOAT\n",
    "    #res[x <= x0] = MIN_FLOAT\n",
    "    res[x > x0] = np.exp(-(x[x>x0]-x0)/(tau+MIN_FLOAT))\n",
    "    return res\n",
    "\n",
    "def exp_gauss(x,x0,amp,sig,tau,eps):\n",
    "    gx0 = np.mean(x)\n",
    "    g = Gaussian1D(x,sig,gx0)\n",
    "    ex = exp_decay(x,tau,x0)\n",
    "    conv = convolve(g,ex,\"same\")\n",
    "    conv /= np.max(conv) + MIN_FLOAT\n",
    "    return amp*conv + eps\n",
    "\n",
    "def exp_gauss_4(x,x1,amp1,sig1,tau1,\n",
    "               x2,amp2,sig2,tau2,\n",
    "               x3,amp3,sig3,tau3,\n",
    "               x4,amp4,sig4,tau4):\n",
    "    g1 = exp_gauss(x,x1,amp1,sig1,tau1,0)\n",
    "    g2 = exp_gauss(x,x2,amp2,sig2,tau2,0)\n",
    "    g3 = exp_gauss(x,x3,amp3,sig3,tau3,0)\n",
    "    g4 = exp_gauss(x,x4,amp4,sig4,tau4,0)\n",
    "    return g1 + g2 + g3 + g4\n",
    "\n",
    "def lnlike(theta, x, y):\n",
    "    model = exp_gauss_4(x,*theta)\n",
    "#    inv_sig = 1./(model**2)\n",
    "    chisqr = -0.5*(np.sum((y-model)**2))\n",
    "    return chisqr"
   ]
  },
  {
   "cell_type": "code",
   "execution_count": null,
   "metadata": {},
   "outputs": [],
   "source": [
    "#Load npy\n",
    "#npy_fil = 'A_117_dm348.8.fits.npy'\n",
    "npy_fil = 'GBT_B.dm348.8.npy'\n",
    "#npy_fil = 'C_1164_dm348.8_lores.npy'\n",
    "#npy_fil = 'D_267_dm348.8_lores.npy'\n",
    "#npy_fil = 'E_579_dm348.8.fits.npy'\n",
    "#npy_fil = 'F_639_dm348.8.fits.npy'\n",
    "#npy_fil = 'G_1549_dm348.8.fits.npy'\n",
    "#npy_fil = 'GMRT_A.dynamicspec_348.8.npy'\n",
    "#npy_fil = 'GMRT_B.dynamicspec_349.19.npy'"
   ]
  },
  {
   "cell_type": "code",
   "execution_count": null,
   "metadata": {},
   "outputs": [],
   "source": [
    "subfactor = 1\n",
    "bandwidth = 400. #MHz\n",
    "center_frequency = 800. #MHz\n",
    "file_duration = 83.33 #ms"
   ]
  },
  {
   "cell_type": "code",
   "execution_count": null,
   "metadata": {},
   "outputs": [],
   "source": [
    "def sub_npy(npy_fil, subfactor, file_duration, bandwidth, center_frequency):\n",
    "    \n",
    "    npy = np.load(npy_fil)\n",
    "    npy_sub = np.flipud(np.nanmean(npy.reshape(-1, subfactor, npy.shape[1]), axis=1))\n",
    "    timeseries = npy_sub.sum(0)\n",
    "\n",
    "    return npy, npy_sub, timeseries"
   ]
  },
  {
   "cell_type": "code",
   "execution_count": null,
   "metadata": {},
   "outputs": [],
   "source": [
    "npy, npy_sub, timeseries = sub_npy(npy_fil, subfactor, file_duration, bandwidth, center_frequency)\n",
    "peaks, widths, snrs = find_burst(timeseries)\n",
    "sampling_time = (file_duration / npy.shape[1])\n",
    "nchan = npy.shape[0]\n",
    "freq_res = bandwidth / nchan\n",
    "print('Sampling Time (ms): ', sampling_time)\n",
    "print(peaks, widths)"
   ]
  },
  {
   "cell_type": "code",
   "execution_count": null,
   "metadata": {},
   "outputs": [],
   "source": []
  }
 ],
 "metadata": {
  "kernelspec": {
   "display_name": "Python 3",
   "language": "python",
   "name": "python3"
  },
  "language_info": {
   "codemirror_mode": {
    "name": "ipython",
    "version": 3
   },
   "file_extension": ".py",
   "mimetype": "text/x-python",
   "name": "python",
   "nbconvert_exporter": "python",
   "pygments_lexer": "ipython3",
   "version": "3.7.3"
  }
 },
 "nbformat": 4,
 "nbformat_minor": 4
}
