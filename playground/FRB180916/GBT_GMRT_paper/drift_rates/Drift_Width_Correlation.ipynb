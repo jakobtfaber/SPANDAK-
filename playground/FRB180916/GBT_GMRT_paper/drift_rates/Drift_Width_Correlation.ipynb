{
 "cells": [
  {
   "cell_type": "code",
   "execution_count": 29,
   "metadata": {},
   "outputs": [],
   "source": [
    "import numpy as np\n",
    "import matplotlib.pyplot as plt\n",
    "from astropy.modeling import models, fitting\n"
   ]
  },
  {
   "cell_type": "code",
   "execution_count": 30,
   "metadata": {},
   "outputs": [
    {
     "data": {
      "text/plain": [
       "'\\nB = -77.9 +/- 0.17 MHz/ms -- 3.2 +/- 0.3 ms\\nE = -59.99 +/- 0.16 MHz/ms -- 4.1 +/- 0.3 ms\\nF = -21.09 +/- 0.071 MHz/ms -- 8.3 +/- 0.3 ms\\nG = -16.59 +/- 0.051 MHz/ms -- 7.3 +/- 0.3 ms\\n'"
      ]
     },
     "execution_count": 30,
     "metadata": {},
     "output_type": "execute_result"
    }
   ],
   "source": [
    "'''\n",
    "B DR: -77.9  +/- 0.17  MHz/ms    Width: 3.2 +/- 0.3 ms\n",
    "E DR: -59.99 +/- 0.16  MHz/ms    Width: 4.1 +/- 0.3 ms\n",
    "F DR: -21.09 +/- 0.071 MHz/ms    Width: 8.3 +/- 0.3 ms\n",
    "G DR: -16.59 +/- 0.051 MHz/ms    Width: 7.3 +/- 0.3 ms\n",
    "'''"
   ]
  },
  {
   "cell_type": "code",
   "execution_count": 106,
   "metadata": {},
   "outputs": [
    {
     "name": "stdout",
     "output_type": "stream",
     "text": [
      "0.24737187500000002\n",
      "[-1.01155253 -1.12493874 -1.57880753 -1.6829819 ]\n",
      "Model: Linear1D\n",
      "Inputs: ('x',)\n",
      "Outputs: ('y',)\n",
      "Model set size: 1\n",
      "Parameters:\n",
      "           slope             intercept      \n",
      "    ------------------- --------------------\n",
      "    -1.6150119304106014 -0.17855135312950196\n"
     ]
    },
    {
     "data": {
      "image/png": "[encoded data removed]",
      "text/plain": [
       "<Figure size 432x288 with 1 Axes>"
      ]
     },
     "metadata": {
      "needs_background": "light"
     },
     "output_type": "display_data"
    }
   ],
   "source": [
    "dr = [77.9, 60.0, 21.1, 16.6] #MHz/ms\n",
    "dr_r = [i / 800 for i in dr]\n",
    "w = [3.2, 4.1, 8.3, 7.3] #ms\n",
    "\n",
    "A = []\n",
    "for i in range(4):\n",
    "    A.append(dr_r[i] * w[i])\n",
    "print(np.mean(A))\n",
    "\n",
    "w = np.log10(w)\n",
    "dr_r = np.log10(dr_r)\n",
    "print(dr_r)\n",
    "yerr = [0.17, 0.16, 0.07, 0.05]\n",
    "xerr = [0.3, 0.3, 0.3, 0.3]\n",
    "#yerr = np.log(yerr)\n",
    "#xerr = np.log(xerr)\n",
    "\n",
    "fig = plt.figure()\n",
    "ax = plt.gca()\n",
    "ax.scatter(w, dr_r, alpha=1, edgecolors='none', label = 'FRB180916')\n",
    "ax.errorbar(w, dr_r, xerr=xerr,yerr=yerr, fmt='o')\n",
    "#ax.set_yscale('log')\n",
    "#ax.set_xscale('log')\n",
    "ax.set_xlabel('Log [Burst Duration (ms)]')\n",
    "ax.set_ylabel('Log [Drift Rate (1/ms)]')\n",
    "#ax.set_xlabel('[Burst Duration (ms)]')\n",
    "#ax.set_ylabel('[Drift Rate (1/ms)]')\n",
    "\n",
    "\n",
    "#logw = np.log10(w)\n",
    "#logdr_r = np.log10(dr_r)\n",
    "x = np.linspace(0.1, 1.4, 8)\n",
    "\n",
    "line_orig = models.Linear1D(slope=-0.08, intercept=0.1)\n",
    "fit = fitting.LinearLSQFitter()\n",
    "line_init = models.Linear1D()\n",
    "fitted_line = fit(line_init, w, dr_r)\n",
    "plt.plot(x, fitted_line(x), label = 'Slope = -1.62')\n",
    "#plt.plot(x, fitted_line(x))\n",
    "print(fitted_line)\n",
    "#print(np.log(np.abs(fitted_line.slope[0])))\n",
    "plt.legend()\n",
    "fig.savefig('Driftvtime.png')"
   ]
  },
  {
   "cell_type": "code",
   "execution_count": null,
   "metadata": {},
   "outputs": [],
   "source": []
  }
 ],
 "metadata": {
  "kernelspec": {
   "display_name": "Python 3",
   "language": "python",
   "name": "python3"
  },
  "language_info": {
   "codemirror_mode": {
    "name": "ipython",
    "version": 3
   },
   "file_extension": ".py",
   "mimetype": "text/x-python",
   "name": "python",
   "nbconvert_exporter": "python",
   "pygments_lexer": "ipython3",
   "version": "3.7.3"
  }
 },
 "nbformat": 4,
 "nbformat_minor": 4
}
