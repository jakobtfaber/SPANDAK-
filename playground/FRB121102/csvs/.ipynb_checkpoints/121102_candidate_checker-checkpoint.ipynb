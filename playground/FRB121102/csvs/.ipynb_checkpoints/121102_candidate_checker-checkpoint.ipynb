{
 "cells": [
  {
   "cell_type": "raw",
   "metadata": {},
   "source": [
    "# Note: FRB121102 DM ~ 560"
   ]
  },
  {
   "cell_type": "code",
   "execution_count": 14,
   "metadata": {},
   "outputs": [],
   "source": [
    "import matplotlib.pyplot as plt\n",
    "import numpy as np\n",
    "import pandas as pd"
   ]
  },
  {
   "cell_type": "code",
   "execution_count": 15,
   "metadata": {},
   "outputs": [],
   "source": [
    "csv11 = pd.read_csv('57991_49905_DIAG_FRB121102_0011.csv')\n",
    "csv12 = pd.read_csv('57991_51723_DIAG_FRB121102_0012.csv')\n",
    "csv13 = pd.read_csv('57991_53535_DIAG_FRB121102_0013.csv')\n",
    "csv14 = pd.read_csv('57991_55354_DIAG_FRB121102_0014.csv')\n",
    "csv15 = pd.read_csv('57991_57166_DIAG_FRB121102_0015.csv')\n",
    "csv16 = pd.read_csv('57991_58976_DIAG_FRB121102_0016.csv')\n",
    "csv17 = pd.read_csv('57991_60787_DIAG_FRB121102_0017.csv') \n",
    "csv18 = pd.read_csv('57991_62598_DIAG_FRB121102_0018.csv')\n",
    "csv19 = pd.read_csv('57991_64409_DIAG_FRB121102_0019.csv')"
   ]
  },
  {
   "cell_type": "code",
   "execution_count": 16,
   "metadata": {},
   "outputs": [],
   "source": [
    "def find_cand_idxs(csv):  \n",
    "    \n",
    "    B_idx = csv[csv.iloc[:, :]['Category']=='B'].index.values\n",
    "    #print(B_idx)\n",
    "    C_idx = csv[csv.iloc[:, :]['Category']=='C'].index.values\n",
    "    #print(C_idx)\n",
    "    allcands = list(np.arange(len(csv.loc[:, :])))\n",
    "    #print(allcands)\n",
    "    for c in C_idx:\n",
    "        allcands.remove(c)\n",
    "    for b in B_idx:\n",
    "        allcands.remove(b)\n",
    "\n",
    "    parse_center_B = [[i for i in [j.split('_') for j in \\\n",
    "                csv.iloc[:, :]['PNGFILE']]][b][2] for b in B_idx]\n",
    "    B_times = [np.float(m[:-3]) for m in parse_center_B]\n",
    "    B_DMs = [[i for i in csv.loc[:, :]['DM']][b] for b in B_idx]\n",
    "    B_SNRs = [[i for i in csv.loc[:, :]['SNR']][b] for b in B_idx]\n",
    "    \n",
    "    parse_center_C = [[i for i in [j.split('_') for j in \\\n",
    "                csv.iloc[:, :]['PNGFILE']]][c][2] for c in C_idx]\n",
    "    C_times = [np.float(m[:-3]) for m in parse_center_C]\n",
    "    C_DMs = [[i for i in csv.loc[:, :]['DM']][c] for c in C_idx]\n",
    "    C_SNRs = [[i for i in csv.loc[:, :]['SNR']][c] for c in C_idx]\n",
    "    \n",
    "    #ng is no grade\n",
    "    \n",
    "    parse_center_ng = [[i for i in [j.split('_') for j in \\\n",
    "                csv.iloc[:, :]['PNGFILE']]][c][1] for c in allcands]\n",
    "    ng_times = [np.float(m[:-3]) for m in parse_center_ng]\n",
    "    ng_DMs = [[i for i in csv.loc[:, :]['DM']][c] for c in allcands]\n",
    "    ng_SNRs = [[i for i in csv.loc[:, :]['SNR']][c] for c in allcands]\n",
    "    \n",
    "    all_times = np.concatenate((B_times, C_times, ng_times))\n",
    "    \n",
    "    return B_times, B_DMs, B_SNRs, C_times, C_DMs, C_SNRs, ng_times, ng_DMs, ng_SNRs, all_times\n",
    "\n"
   ]
  },
  {
   "cell_type": "code",
   "execution_count": 17,
   "metadata": {},
   "outputs": [
    {
     "name": "stdout",
     "output_type": "stream",
     "text": [
      "B Times:  []\n",
      "B Candidates:  []\n",
      "B SNRs:  []\n",
      "B DMs:  []\n",
      "C Times:  []\n",
      "C Candidates:  []\n",
      "C SNRs:  []\n",
      "C DMs:  []\n",
      "NG Times:  []\n",
      "NG Candidates:  []\n",
      "NG SNRs:  []\n",
      "NG DMs:  []\n"
     ]
    }
   ],
   "source": [
    "B_times, B_DMs, B_SNRs, C_times, C_DMs, C_SNRs, \\\n",
    "ng_times, ng_DMs, ng_SNRs, all_times = find_cand_idxs(csv11)\n",
    "#print(C_times)\n",
    "B_DMs = np.asarray(B_DMs)\n",
    "#print('B_DMs: ', B_DMs)\n",
    "C_DMs = np.asarray(C_DMs)\n",
    "#print('C_DMs: ', C_DMs)\n",
    "ng_DMs = np.asarray(ng_DMs)\n",
    "#print('ng_DMs: ', ng_DMs)\n",
    "B_times = np.asarray(B_times)\n",
    "#print('B_t: ', B_times)\n",
    "C_times = np.asarray(C_times)\n",
    "#print('C_t: ', C_times)\n",
    "ng_times = np.asarray(ng_times)\n",
    "#print('ng_t: ', ng_times)\n",
    "B_SNRs = np.asarray(B_SNRs)\n",
    "#print('B_SNR: ', B_SNRs)\n",
    "C_SNRs = np.asarray(C_SNRs)\n",
    "#print('C_SNR: ', C_SNRs)\n",
    "ng_SNRs = np.asarray(ng_SNRs)\n",
    "#print('ng_SNR: ', ng_SNRs)\n",
    "\n",
    "Bcands = []\n",
    "Bctimes = []\n",
    "Bcsnrs = []\n",
    "Bcdms = []\n",
    "for i in np.arange(len(B_DMs)):\n",
    "    if 500 < B_DMs[i] < 600:\n",
    "        if 9 < B_SNRs[i] < 250:\n",
    "            Bcands.append(i)\n",
    "            Bcdms.append(B_DMs[i])\n",
    "            #Bcands.append([np.where(B_DMs == i)[0]]) \n",
    "            Bctimes.append(B_times[i])\n",
    "            Bcsnrs.append(B_SNRs[i])\n",
    "\n",
    "Ccands = []\n",
    "Cctimes = []\n",
    "Ccsnrs = []\n",
    "Ccdms = []\n",
    "for i in np.arange(len(C_DMs)):\n",
    "    if 500 < C_DMs[i] < 600:\n",
    "        if 9 < C_SNRs[i] < 250:\n",
    "            Ccands.append(i)\n",
    "            Ccdms.append(C_DMs[i])\n",
    "            #Ccands.append([np.where(C_DMs == i)[0]])\n",
    "            Cctimes.append(C_times[i])\n",
    "            Ccsnrs.append(C_SNRs[i])\n",
    "        \n",
    "ngcands = []\n",
    "ngctimes = []\n",
    "ngcsnrs = []\n",
    "ngcdms = []\n",
    "for i in np.arange(len(ng_DMs)):\n",
    "    if 00 < ng_DMs[i] < 400:\n",
    "        if 9 < ng_SNRs[i] < 250:\n",
    "            ngcands.append(i)\n",
    "            ngcdms.append(ng_DMs[i])\n",
    "            #ngcands.append([np.where(ng_DMs == i)[0]])\n",
    "            ngctimes.append(ng_times[i])\n",
    "            ngcsnrs.append(ng_SNRs[i])\n",
    "        \n",
    "print('B Times: ', Bctimes)\n",
    "print('B Candidates: ', Bcands)\n",
    "print('B SNRs: ', Bcsnrs)\n",
    "print('B DMs: ', Bcdms)\n",
    "print('C Times: ', Cctimes)\n",
    "print('C Candidates: ', Ccands)\n",
    "print('C SNRs: ', Ccsnrs)\n",
    "print('C DMs: ', Ccdms)\n",
    "print('NG Times: ', ngctimes)\n",
    "print('NG Candidates: ', ngcands)\n",
    "print('NG SNRs: ', ngcsnrs)\n",
    "print('NG DMs: ', ngcdms)"
   ]
  },
  {
   "cell_type": "code",
   "execution_count": 6,
   "metadata": {},
   "outputs": [],
   "source": [
    "def find_nearest(array1, array2):\n",
    "    duplicate_idxs = []\n",
    "    array1 = np.asarray(array1)\n",
    "    for value in array1:\n",
    "        array2 = np.asarray(array2)\n",
    "        ar1_ar2_diff = np.abs(array2 - value)\n",
    "        #print('AR diff ', ar1_ar2_diff)\n",
    "        for diff in ar1_ar2_diff:\n",
    "            if diff < 2:\n",
    "                duplicate_idxs.append([np.where(array1 == value)[0][0], np.where(ar1_ar2_diff == diff)[0][0]])\n",
    "    ar1_duplicate_times = [array1[val[0]] for val in duplicate_idxs]\n",
    "    ar2_duplicate_times = [array2[val[1]] for val in duplicate_idxs]\n",
    "    return ar1_duplicate_times, ar2_duplicate_times, duplicate_idxs"
   ]
  },
  {
   "cell_type": "code",
   "execution_count": 7,
   "metadata": {},
   "outputs": [
    {
     "ename": "NameError",
     "evalue": "name 'B5_times' is not defined",
     "output_type": "error",
     "traceback": [
      "\u001b[0;31m---------------------------------------------------------------------------\u001b[0m",
      "\u001b[0;31mNameError\u001b[0m                                 Traceback (most recent call last)",
      "\u001b[0;32m<ipython-input-7-1380f7db61a6>\u001b[0m in \u001b[0;36m<module>\u001b[0;34m\u001b[0m\n\u001b[0;32m----> 1\u001b[0;31m \u001b[0mb5_duptimes\u001b[0m\u001b[0;34m,\u001b[0m \u001b[0mc5_duptimes\u001b[0m\u001b[0;34m,\u001b[0m \u001b[0mduplicate_idxs\u001b[0m \u001b[0;34m=\u001b[0m \u001b[0mfind_nearest\u001b[0m\u001b[0;34m(\u001b[0m\u001b[0mB5_times\u001b[0m\u001b[0;34m,\u001b[0m \u001b[0mnograde5_times\u001b[0m\u001b[0;34m)\u001b[0m\u001b[0;34m\u001b[0m\u001b[0;34m\u001b[0m\u001b[0m\n\u001b[0m\u001b[1;32m      2\u001b[0m \u001b[0mprint\u001b[0m\u001b[0;34m(\u001b[0m\u001b[0mb5_duptimes\u001b[0m\u001b[0;34m)\u001b[0m\u001b[0;34m\u001b[0m\u001b[0;34m\u001b[0m\u001b[0m\n\u001b[1;32m      3\u001b[0m \u001b[0mprint\u001b[0m\u001b[0;34m(\u001b[0m\u001b[0mc5_duptimes\u001b[0m\u001b[0;34m)\u001b[0m\u001b[0;34m\u001b[0m\u001b[0;34m\u001b[0m\u001b[0m\n",
      "\u001b[0;31mNameError\u001b[0m: name 'B5_times' is not defined"
     ]
    }
   ],
   "source": [
    "b5_duptimes, c5_duptimes, duplicate_idxs = find_nearest(B5_times, nograde5_times)\n",
    "print(b5_duptimes)\n",
    "print(c5_duptimes)"
   ]
  },
  {
   "cell_type": "code",
   "execution_count": null,
   "metadata": {},
   "outputs": [],
   "source": []
  }
 ],
 "metadata": {
  "kernelspec": {
   "display_name": "Python 3",
   "language": "python",
   "name": "python3"
  },
  "language_info": {
   "codemirror_mode": {
    "name": "ipython",
    "version": 3
   },
   "file_extension": ".py",
   "mimetype": "text/x-python",
   "name": "python",
   "nbconvert_exporter": "python",
   "pygments_lexer": "ipython3",
   "version": "3.7.3"
  }
 },
 "nbformat": 4,
 "nbformat_minor": 4
}
